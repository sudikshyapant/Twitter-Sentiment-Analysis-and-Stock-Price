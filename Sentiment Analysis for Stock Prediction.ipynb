{
 "cells": [
  {
   "cell_type": "markdown",
   "id": "caae8fb7",
   "metadata": {},
   "source": [
    "Goals:\n",
    "1. Developing proficiency in retrieving past stock prices using Python.\n",
    "2. Analyzing stock price patterns and creating visual representations.\n",
    "3. Collecting historical tweet data concerning a specific stock.\n",
    "4. Conducting sentiment analysis on the collected tweets.\n",
    "5. Exploring the potential for discovering predictive signals for stock prices via sentiment analysis"
   ]
  },
  {
   "cell_type": "code",
   "execution_count": null,
   "id": "e9c2cbc9",
   "metadata": {},
   "outputs": [],
   "source": [
    "import pandas as pd\n",
    "import numpy as np\n",
    "import matplotlib.pyplot as plt\n",
    "import yfinance as yf\n",
    "import plotly.graph_objects as go\n",
    "from datetime import datetime"
   ]
  },
  {
   "cell_type": "code",
   "execution_count": 7,
   "id": "f0ac5266",
   "metadata": {},
   "outputs": [
    {
     "data": {
      "application/javascript": "\n            setTimeout(function() {\n                var nbb_cell_id = 7;\n                var nbb_unformatted_code = \"%load_ext nb_black\";\n                var nbb_formatted_code = \"%load_ext nb_black\";\n                var nbb_cells = Jupyter.notebook.get_cells();\n                for (var i = 0; i < nbb_cells.length; ++i) {\n                    if (nbb_cells[i].input_prompt_number == nbb_cell_id) {\n                        if (nbb_cells[i].get_text() == nbb_unformatted_code) {\n                             nbb_cells[i].set_text(nbb_formatted_code);\n                        }\n                        break;\n                    }\n                }\n            }, 500);\n            ",
      "text/plain": [
       "<IPython.core.display.Javascript object>"
      ]
     },
     "metadata": {},
     "output_type": "display_data"
    }
   ],
   "source": [
    "%load_ext nb_black"
   ]
  },
  {
   "cell_type": "code",
   "execution_count": 8,
   "id": "884b54cc",
   "metadata": {},
   "outputs": [
    {
     "data": {
      "application/javascript": "\n            setTimeout(function() {\n                var nbb_cell_id = 8;\n                var nbb_unformatted_code = \"## Pulling stock\";\n                var nbb_formatted_code = \"## Pulling stock\";\n                var nbb_cells = Jupyter.notebook.get_cells();\n                for (var i = 0; i < nbb_cells.length; ++i) {\n                    if (nbb_cells[i].input_prompt_number == nbb_cell_id) {\n                        if (nbb_cells[i].get_text() == nbb_unformatted_code) {\n                             nbb_cells[i].set_text(nbb_formatted_code);\n                        }\n                        break;\n                    }\n                }\n            }, 500);\n            ",
      "text/plain": [
       "<IPython.core.display.Javascript object>"
      ]
     },
     "metadata": {},
     "output_type": "display_data"
    }
   ],
   "source": [
    "## Pulling stock"
   ]
  },
  {
   "cell_type": "code",
   "execution_count": 9,
   "id": "a1e7458c",
   "metadata": {},
   "outputs": [
    {
     "data": {
      "text/html": [
       "<div>\n",
       "<style scoped>\n",
       "    .dataframe tbody tr th:only-of-type {\n",
       "        vertical-align: middle;\n",
       "    }\n",
       "\n",
       "    .dataframe tbody tr th {\n",
       "        vertical-align: top;\n",
       "    }\n",
       "\n",
       "    .dataframe thead th {\n",
       "        text-align: right;\n",
       "    }\n",
       "</style>\n",
       "<table border=\"1\" class=\"dataframe\">\n",
       "  <thead>\n",
       "    <tr style=\"text-align: right;\">\n",
       "      <th></th>\n",
       "      <th>Open</th>\n",
       "      <th>High</th>\n",
       "      <th>Low</th>\n",
       "      <th>Close</th>\n",
       "      <th>Volume</th>\n",
       "      <th>Dividends</th>\n",
       "      <th>Stock Splits</th>\n",
       "    </tr>\n",
       "    <tr>\n",
       "      <th>Date</th>\n",
       "      <th></th>\n",
       "      <th></th>\n",
       "      <th></th>\n",
       "      <th></th>\n",
       "      <th></th>\n",
       "      <th></th>\n",
       "      <th></th>\n",
       "    </tr>\n",
       "  </thead>\n",
       "  <tbody>\n",
       "    <tr>\n",
       "      <th>1986-03-13 00:00:00-05:00</th>\n",
       "      <td>0.054792</td>\n",
       "      <td>0.062849</td>\n",
       "      <td>0.054792</td>\n",
       "      <td>0.060163</td>\n",
       "      <td>1031788800</td>\n",
       "      <td>0.0</td>\n",
       "      <td>0.0</td>\n",
       "    </tr>\n",
       "    <tr>\n",
       "      <th>1986-03-14 00:00:00-05:00</th>\n",
       "      <td>0.060163</td>\n",
       "      <td>0.063386</td>\n",
       "      <td>0.060163</td>\n",
       "      <td>0.062311</td>\n",
       "      <td>308160000</td>\n",
       "      <td>0.0</td>\n",
       "      <td>0.0</td>\n",
       "    </tr>\n",
       "    <tr>\n",
       "      <th>1986-03-17 00:00:00-05:00</th>\n",
       "      <td>0.062311</td>\n",
       "      <td>0.063923</td>\n",
       "      <td>0.062311</td>\n",
       "      <td>0.063386</td>\n",
       "      <td>133171200</td>\n",
       "      <td>0.0</td>\n",
       "      <td>0.0</td>\n",
       "    </tr>\n",
       "    <tr>\n",
       "      <th>1986-03-18 00:00:00-05:00</th>\n",
       "      <td>0.063386</td>\n",
       "      <td>0.063923</td>\n",
       "      <td>0.061237</td>\n",
       "      <td>0.061774</td>\n",
       "      <td>67766400</td>\n",
       "      <td>0.0</td>\n",
       "      <td>0.0</td>\n",
       "    </tr>\n",
       "    <tr>\n",
       "      <th>1986-03-19 00:00:00-05:00</th>\n",
       "      <td>0.061774</td>\n",
       "      <td>0.062311</td>\n",
       "      <td>0.060163</td>\n",
       "      <td>0.060700</td>\n",
       "      <td>47894400</td>\n",
       "      <td>0.0</td>\n",
       "      <td>0.0</td>\n",
       "    </tr>\n",
       "    <tr>\n",
       "      <th>...</th>\n",
       "      <td>...</td>\n",
       "      <td>...</td>\n",
       "      <td>...</td>\n",
       "      <td>...</td>\n",
       "      <td>...</td>\n",
       "      <td>...</td>\n",
       "      <td>...</td>\n",
       "    </tr>\n",
       "    <tr>\n",
       "      <th>2024-04-08 00:00:00-04:00</th>\n",
       "      <td>425.170013</td>\n",
       "      <td>427.279999</td>\n",
       "      <td>423.299988</td>\n",
       "      <td>424.589996</td>\n",
       "      <td>14272400</td>\n",
       "      <td>0.0</td>\n",
       "      <td>0.0</td>\n",
       "    </tr>\n",
       "    <tr>\n",
       "      <th>2024-04-09 00:00:00-04:00</th>\n",
       "      <td>426.440002</td>\n",
       "      <td>427.739990</td>\n",
       "      <td>421.619995</td>\n",
       "      <td>426.279999</td>\n",
       "      <td>12512300</td>\n",
       "      <td>0.0</td>\n",
       "      <td>0.0</td>\n",
       "    </tr>\n",
       "    <tr>\n",
       "      <th>2024-04-10 00:00:00-04:00</th>\n",
       "      <td>422.190002</td>\n",
       "      <td>424.029999</td>\n",
       "      <td>419.700012</td>\n",
       "      <td>423.260010</td>\n",
       "      <td>16216600</td>\n",
       "      <td>0.0</td>\n",
       "      <td>0.0</td>\n",
       "    </tr>\n",
       "    <tr>\n",
       "      <th>2024-04-11 00:00:00-04:00</th>\n",
       "      <td>425.820007</td>\n",
       "      <td>429.369995</td>\n",
       "      <td>422.359985</td>\n",
       "      <td>427.929993</td>\n",
       "      <td>17966400</td>\n",
       "      <td>0.0</td>\n",
       "      <td>0.0</td>\n",
       "    </tr>\n",
       "    <tr>\n",
       "      <th>2024-04-12 00:00:00-04:00</th>\n",
       "      <td>424.049988</td>\n",
       "      <td>425.179993</td>\n",
       "      <td>419.769989</td>\n",
       "      <td>421.899994</td>\n",
       "      <td>19232100</td>\n",
       "      <td>0.0</td>\n",
       "      <td>0.0</td>\n",
       "    </tr>\n",
       "  </tbody>\n",
       "</table>\n",
       "<p>9598 rows × 7 columns</p>\n",
       "</div>"
      ],
      "text/plain": [
       "                                 Open        High         Low       Close  \\\n",
       "Date                                                                        \n",
       "1986-03-13 00:00:00-05:00    0.054792    0.062849    0.054792    0.060163   \n",
       "1986-03-14 00:00:00-05:00    0.060163    0.063386    0.060163    0.062311   \n",
       "1986-03-17 00:00:00-05:00    0.062311    0.063923    0.062311    0.063386   \n",
       "1986-03-18 00:00:00-05:00    0.063386    0.063923    0.061237    0.061774   \n",
       "1986-03-19 00:00:00-05:00    0.061774    0.062311    0.060163    0.060700   \n",
       "...                               ...         ...         ...         ...   \n",
       "2024-04-08 00:00:00-04:00  425.170013  427.279999  423.299988  424.589996   \n",
       "2024-04-09 00:00:00-04:00  426.440002  427.739990  421.619995  426.279999   \n",
       "2024-04-10 00:00:00-04:00  422.190002  424.029999  419.700012  423.260010   \n",
       "2024-04-11 00:00:00-04:00  425.820007  429.369995  422.359985  427.929993   \n",
       "2024-04-12 00:00:00-04:00  424.049988  425.179993  419.769989  421.899994   \n",
       "\n",
       "                               Volume  Dividends  Stock Splits  \n",
       "Date                                                            \n",
       "1986-03-13 00:00:00-05:00  1031788800        0.0           0.0  \n",
       "1986-03-14 00:00:00-05:00   308160000        0.0           0.0  \n",
       "1986-03-17 00:00:00-05:00   133171200        0.0           0.0  \n",
       "1986-03-18 00:00:00-05:00    67766400        0.0           0.0  \n",
       "1986-03-19 00:00:00-05:00    47894400        0.0           0.0  \n",
       "...                               ...        ...           ...  \n",
       "2024-04-08 00:00:00-04:00    14272400        0.0           0.0  \n",
       "2024-04-09 00:00:00-04:00    12512300        0.0           0.0  \n",
       "2024-04-10 00:00:00-04:00    16216600        0.0           0.0  \n",
       "2024-04-11 00:00:00-04:00    17966400        0.0           0.0  \n",
       "2024-04-12 00:00:00-04:00    19232100        0.0           0.0  \n",
       "\n",
       "[9598 rows x 7 columns]"
      ]
     },
     "execution_count": 9,
     "metadata": {},
     "output_type": "execute_result"
    },
    {
     "data": {
      "application/javascript": "\n            setTimeout(function() {\n                var nbb_cell_id = 9;\n                var nbb_unformatted_code = \"msft = yf.Ticker('MSFT')\\ninfo = msft.info\\nhist = msft.history(period = 'max')\\nhist\";\n                var nbb_formatted_code = \"msft = yf.Ticker(\\\"MSFT\\\")\\ninfo = msft.info\\nhist = msft.history(period=\\\"max\\\")\\nhist\";\n                var nbb_cells = Jupyter.notebook.get_cells();\n                for (var i = 0; i < nbb_cells.length; ++i) {\n                    if (nbb_cells[i].input_prompt_number == nbb_cell_id) {\n                        if (nbb_cells[i].get_text() == nbb_unformatted_code) {\n                             nbb_cells[i].set_text(nbb_formatted_code);\n                        }\n                        break;\n                    }\n                }\n            }, 500);\n            ",
      "text/plain": [
       "<IPython.core.display.Javascript object>"
      ]
     },
     "metadata": {},
     "output_type": "display_data"
    }
   ],
   "source": [
    "msft = yf.Ticker(\"MSFT\")\n",
    "info = msft.info\n",
    "hist = msft.history(period=\"max\")\n",
    "hist"
   ]
  },
  {
   "cell_type": "code",
   "execution_count": 10,
   "id": "b7300251",
   "metadata": {},
   "outputs": [
    {
     "data": {
      "text/plain": [
       "<Axes: xlabel='Date'>"
      ]
     },
     "execution_count": 10,
     "metadata": {},
     "output_type": "execute_result"
    },
    {
     "data": {
      "image/png": "[encoded data removed]",
      "text/plain": [
       "<Figure size 1000x500 with 1 Axes>"
      ]
     },
     "metadata": {},
     "output_type": "display_data"
    },
    {
     "data": {
      "application/javascript": "\n            setTimeout(function() {\n                var nbb_cell_id = 10;\n                var nbb_unformatted_code = \"hist['Open'].plot(figsize=(10,5))\";\n                var nbb_formatted_code = \"hist[\\\"Open\\\"].plot(figsize=(10, 5))\";\n                var nbb_cells = Jupyter.notebook.get_cells();\n                for (var i = 0; i < nbb_cells.length; ++i) {\n                    if (nbb_cells[i].input_prompt_number == nbb_cell_id) {\n                        if (nbb_cells[i].get_text() == nbb_unformatted_code) {\n                             nbb_cells[i].set_text(nbb_formatted_code);\n                        }\n                        break;\n                    }\n                }\n            }, 500);\n            ",
      "text/plain": [
       "<IPython.core.display.Javascript object>"
      ]
     },
     "metadata": {},
     "output_type": "display_data"
    }
   ],
   "source": [
    "hist[\"Open\"].plot(figsize=(10, 5))"
   ]
  },
  {
   "cell_type": "code",
   "execution_count": 11,
   "id": "a675cbdd",
   "metadata": {},
   "outputs": [
    {
     "data": {
      "text/plain": [
       "{'Dividend Date': datetime.date(2024, 6, 13),\n",
       " 'Ex-Dividend Date': datetime.date(2024, 5, 15),\n",
       " 'Earnings Date': [datetime.date(2024, 4, 26)],\n",
       " 'Earnings High': 3.06,\n",
       " 'Earnings Low': 2.78,\n",
       " 'Earnings Average': 2.82,\n",
       " 'Revenue High': 62059100000,\n",
       " 'Revenue Low': 60274900000,\n",
       " 'Revenue Average': 60772100000}"
      ]
     },
     "execution_count": 11,
     "metadata": {},
     "output_type": "execute_result"
    },
    {
     "data": {
      "application/javascript": "\n            setTimeout(function() {\n                var nbb_cell_id = 11;\n                var nbb_unformatted_code = \"msft.calendar\";\n                var nbb_formatted_code = \"msft.calendar\";\n                var nbb_cells = Jupyter.notebook.get_cells();\n                for (var i = 0; i < nbb_cells.length; ++i) {\n                    if (nbb_cells[i].input_prompt_number == nbb_cell_id) {\n                        if (nbb_cells[i].get_text() == nbb_unformatted_code) {\n                             nbb_cells[i].set_text(nbb_formatted_code);\n                        }\n                        break;\n                    }\n                }\n            }, 500);\n            ",
      "text/plain": [
       "<IPython.core.display.Javascript object>"
      ]
     },
     "metadata": {},
     "output_type": "display_data"
    }
   ],
   "source": [
    "msft.calendar"
   ]
  },
  {
   "cell_type": "code",
   "execution_count": 12,
   "id": "14df1a24",
   "metadata": {},
   "outputs": [
    {
     "data": {
      "application/javascript": "\n            setTimeout(function() {\n                var nbb_cell_id = 12;\n                var nbb_unformatted_code = \"## Pull a bunch of stocks, conduct data parsing\";\n                var nbb_formatted_code = \"## Pull a bunch of stocks, conduct data parsing\";\n                var nbb_cells = Jupyter.notebook.get_cells();\n                for (var i = 0; i < nbb_cells.length; ++i) {\n                    if (nbb_cells[i].input_prompt_number == nbb_cell_id) {\n                        if (nbb_cells[i].get_text() == nbb_unformatted_code) {\n                             nbb_cells[i].set_text(nbb_formatted_code);\n                        }\n                        break;\n                    }\n                }\n            }, 500);\n            ",
      "text/plain": [
       "<IPython.core.display.Javascript object>"
      ]
     },
     "metadata": {},
     "output_type": "display_data"
    }
   ],
   "source": [
    "## Pull a bunch of stocks, conduct data parsing"
   ]
  },
  {
   "cell_type": "code",
   "execution_count": 13,
   "id": "a9343fa5",
   "metadata": {},
   "outputs": [
    {
     "data": {
      "text/plain": [
       "['CRWD',\n",
       " 'PYPL',\n",
       " 'MELI',\n",
       " 'ABNB',\n",
       " 'SHOP',\n",
       " 'ISRG',\n",
       " 'DIS',\n",
       " 'BRK',\n",
       " 'BRK',\n",
       " 'AMZN',\n",
       " 'GOOGL',\n",
       " 'GOOG']"
      ]
     },
     "execution_count": 13,
     "metadata": {},
     "output_type": "execute_result"
    },
    {
     "data": {
      "application/javascript": "\n            setTimeout(function() {\n                var nbb_cell_id = 13;\n                var nbb_unformatted_code = \"import re\\n\\n#data \\ndata= ''' CrowdStrike (CRWD -2.75%), $68 billion\\nPayPal (PYPL -1.84%), $66 billion\\nMercadoLibre (MELI -4.21%), $84 billion\\nAirbnb (ABNB -3.66%), $88 billion\\nShopify (SHOP -2.19%), $105 billion\\nIntuitive Surgical (ISRG -1.9%), $128 billion\\nWalt Disney (DIS -2.68%), $165 billion\\nBerkshire Hathaway (BRK.A -1.39%)(BRK.B -1.07%), $797 billion\\nAmazon (AMZN -1.54%), $1.60 trillion\\nAlphabet (GOOGL -1.05%)(GOOG -1.0%), $1.79 trillion '''\\n\\n#define a regex pattern to extract ticker symbols\\n\\npattern = r'\\\\(([A-Z]+)'\\n\\n#use regex to find ticker symbols\\n\\ntickers = re.findall(pattern, data)\\n\\ntickers\";\n                var nbb_formatted_code = \"import re\\n\\n# data\\ndata = \\\"\\\"\\\" CrowdStrike (CRWD -2.75%), $68 billion\\nPayPal (PYPL -1.84%), $66 billion\\nMercadoLibre (MELI -4.21%), $84 billion\\nAirbnb (ABNB -3.66%), $88 billion\\nShopify (SHOP -2.19%), $105 billion\\nIntuitive Surgical (ISRG -1.9%), $128 billion\\nWalt Disney (DIS -2.68%), $165 billion\\nBerkshire Hathaway (BRK.A -1.39%)(BRK.B -1.07%), $797 billion\\nAmazon (AMZN -1.54%), $1.60 trillion\\nAlphabet (GOOGL -1.05%)(GOOG -1.0%), $1.79 trillion \\\"\\\"\\\"\\n\\n# define a regex pattern to extract ticker symbols\\n\\npattern = r\\\"\\\\(([A-Z]+)\\\"\\n\\n# use regex to find ticker symbols\\n\\ntickers = re.findall(pattern, data)\\n\\ntickers\";\n                var nbb_cells = Jupyter.notebook.get_cells();\n                for (var i = 0; i < nbb_cells.length; ++i) {\n                    if (nbb_cells[i].input_prompt_number == nbb_cell_id) {\n                        if (nbb_cells[i].get_text() == nbb_unformatted_code) {\n                             nbb_cells[i].set_text(nbb_formatted_code);\n                        }\n                        break;\n                    }\n                }\n            }, 500);\n            ",
      "text/plain": [
       "<IPython.core.display.Javascript object>"
      ]
     },
     "metadata": {},
     "output_type": "display_data"
    }
   ],
   "source": [
    "import re\n",
    "\n",
    "# data\n",
    "data = \"\"\" CrowdStrike (CRWD -2.75%), $68 billion\n",
    "PayPal (PYPL -1.84%), $66 billion\n",
    "MercadoLibre (MELI -4.21%), $84 billion\n",
    "Airbnb (ABNB -3.66%), $88 billion\n",
    "Shopify (SHOP -2.19%), $105 billion\n",
    "Intuitive Surgical (ISRG -1.9%), $128 billion\n",
    "Walt Disney (DIS -2.68%), $165 billion\n",
    "Berkshire Hathaway (BRK.A -1.39%)(BRK.B -1.07%), $797 billion\n",
    "Amazon (AMZN -1.54%), $1.60 trillion\n",
    "Alphabet (GOOGL -1.05%)(GOOG -1.0%), $1.79 trillion \"\"\"\n",
    "\n",
    "# define a regex pattern to extract ticker symbols\n",
    "\n",
    "pattern = r\"\\(([A-Z]+)\"\n",
    "\n",
    "# use regex to find ticker symbols\n",
    "\n",
    "tickers = re.findall(pattern, data)\n",
    "\n",
    "tickers"
   ]
  },
  {
   "cell_type": "code",
   "execution_count": 14,
   "id": "08688675",
   "metadata": {},
   "outputs": [
    {
     "data": {
      "application/javascript": "\n            setTimeout(function() {\n                var nbb_cell_id = 14;\n                var nbb_unformatted_code = \"hists = {}\\nfor s in tickers:\\n    tkr = yf.Ticker(s)\\n    history = tkr.history(period='10y')\\n    hists[s] = history\";\n                var nbb_formatted_code = \"hists = {}\\nfor s in tickers:\\n    tkr = yf.Ticker(s)\\n    history = tkr.history(period=\\\"10y\\\")\\n    hists[s] = history\";\n                var nbb_cells = Jupyter.notebook.get_cells();\n                for (var i = 0; i < nbb_cells.length; ++i) {\n                    if (nbb_cells[i].input_prompt_number == nbb_cell_id) {\n                        if (nbb_cells[i].get_text() == nbb_unformatted_code) {\n                             nbb_cells[i].set_text(nbb_formatted_code);\n                        }\n                        break;\n                    }\n                }\n            }, 500);\n            ",
      "text/plain": [
       "<IPython.core.display.Javascript object>"
      ]
     },
     "metadata": {},
     "output_type": "display_data"
    }
   ],
   "source": [
    "hists = {}\n",
    "for s in tickers:\n",
    "    tkr = yf.Ticker(s)\n",
    "    history = tkr.history(period='10y')\n",
    "    hists[s] = history\n"
   ]
  },
  {
   "cell_type": "code",
   "execution_count": 15,
   "id": "b5fc2d1b",
   "metadata": {},
   "outputs": [
    {
     "data": {
      "text/html": [
       "<div>\n",
       "<style scoped>\n",
       "    .dataframe tbody tr th:only-of-type {\n",
       "        vertical-align: middle;\n",
       "    }\n",
       "\n",
       "    .dataframe tbody tr th {\n",
       "        vertical-align: top;\n",
       "    }\n",
       "\n",
       "    .dataframe thead th {\n",
       "        text-align: right;\n",
       "    }\n",
       "</style>\n",
       "<table border=\"1\" class=\"dataframe\">\n",
       "  <thead>\n",
       "    <tr style=\"text-align: right;\">\n",
       "      <th></th>\n",
       "      <th>Open</th>\n",
       "      <th>High</th>\n",
       "      <th>Low</th>\n",
       "      <th>Close</th>\n",
       "      <th>Volume</th>\n",
       "      <th>Dividends</th>\n",
       "      <th>Stock Splits</th>\n",
       "    </tr>\n",
       "    <tr>\n",
       "      <th>Date</th>\n",
       "      <th></th>\n",
       "      <th></th>\n",
       "      <th></th>\n",
       "      <th></th>\n",
       "      <th></th>\n",
       "      <th></th>\n",
       "      <th></th>\n",
       "    </tr>\n",
       "  </thead>\n",
       "  <tbody>\n",
       "    <tr>\n",
       "      <th>2014-04-14 00:00:00-04:00</th>\n",
       "      <td>27.183001</td>\n",
       "      <td>27.650999</td>\n",
       "      <td>27.025999</td>\n",
       "      <td>27.260000</td>\n",
       "      <td>50824000</td>\n",
       "      <td>0.0</td>\n",
       "      <td>0.0</td>\n",
       "    </tr>\n",
       "    <tr>\n",
       "      <th>2014-04-15 00:00:00-04:00</th>\n",
       "      <td>27.549999</td>\n",
       "      <td>27.644501</td>\n",
       "      <td>26.532000</td>\n",
       "      <td>27.434999</td>\n",
       "      <td>79956000</td>\n",
       "      <td>0.0</td>\n",
       "      <td>0.0</td>\n",
       "    </tr>\n",
       "    <tr>\n",
       "      <th>2014-04-16 00:00:00-04:00</th>\n",
       "      <td>27.885000</td>\n",
       "      <td>28.200001</td>\n",
       "      <td>27.655001</td>\n",
       "      <td>28.195000</td>\n",
       "      <td>91644000</td>\n",
       "      <td>0.0</td>\n",
       "      <td>0.0</td>\n",
       "    </tr>\n",
       "    <tr>\n",
       "      <th>2014-04-17 00:00:00-04:00</th>\n",
       "      <td>27.816000</td>\n",
       "      <td>27.850000</td>\n",
       "      <td>26.969999</td>\n",
       "      <td>27.167000</td>\n",
       "      <td>112294000</td>\n",
       "      <td>0.0</td>\n",
       "      <td>0.0</td>\n",
       "    </tr>\n",
       "    <tr>\n",
       "      <th>2014-04-21 00:00:00-04:00</th>\n",
       "      <td>27.200001</td>\n",
       "      <td>27.200001</td>\n",
       "      <td>26.700001</td>\n",
       "      <td>26.968500</td>\n",
       "      <td>48502000</td>\n",
       "      <td>0.0</td>\n",
       "      <td>0.0</td>\n",
       "    </tr>\n",
       "    <tr>\n",
       "      <th>...</th>\n",
       "      <td>...</td>\n",
       "      <td>...</td>\n",
       "      <td>...</td>\n",
       "      <td>...</td>\n",
       "      <td>...</td>\n",
       "      <td>...</td>\n",
       "      <td>...</td>\n",
       "    </tr>\n",
       "    <tr>\n",
       "      <th>2024-04-08 00:00:00-04:00</th>\n",
       "      <td>152.779999</td>\n",
       "      <td>155.270004</td>\n",
       "      <td>152.610001</td>\n",
       "      <td>154.850006</td>\n",
       "      <td>20702000</td>\n",
       "      <td>0.0</td>\n",
       "      <td>0.0</td>\n",
       "    </tr>\n",
       "    <tr>\n",
       "      <th>2024-04-09 00:00:00-04:00</th>\n",
       "      <td>156.089996</td>\n",
       "      <td>158.559998</td>\n",
       "      <td>155.190002</td>\n",
       "      <td>156.600006</td>\n",
       "      <td>31113000</td>\n",
       "      <td>0.0</td>\n",
       "      <td>0.0</td>\n",
       "    </tr>\n",
       "    <tr>\n",
       "      <th>2024-04-10 00:00:00-04:00</th>\n",
       "      <td>156.210007</td>\n",
       "      <td>156.610001</td>\n",
       "      <td>154.679993</td>\n",
       "      <td>156.139999</td>\n",
       "      <td>22838600</td>\n",
       "      <td>0.0</td>\n",
       "      <td>0.0</td>\n",
       "    </tr>\n",
       "    <tr>\n",
       "      <th>2024-04-11 00:00:00-04:00</th>\n",
       "      <td>156.910004</td>\n",
       "      <td>159.679993</td>\n",
       "      <td>156.460007</td>\n",
       "      <td>159.410004</td>\n",
       "      <td>27166400</td>\n",
       "      <td>0.0</td>\n",
       "      <td>0.0</td>\n",
       "    </tr>\n",
       "    <tr>\n",
       "      <th>2024-04-12 00:00:00-04:00</th>\n",
       "      <td>157.960007</td>\n",
       "      <td>160.220001</td>\n",
       "      <td>157.139999</td>\n",
       "      <td>157.729996</td>\n",
       "      <td>25329200</td>\n",
       "      <td>0.0</td>\n",
       "      <td>0.0</td>\n",
       "    </tr>\n",
       "  </tbody>\n",
       "</table>\n",
       "<p>2517 rows × 7 columns</p>\n",
       "</div>"
      ],
      "text/plain": [
       "                                 Open        High         Low       Close  \\\n",
       "Date                                                                        \n",
       "2014-04-14 00:00:00-04:00   27.183001   27.650999   27.025999   27.260000   \n",
       "2014-04-15 00:00:00-04:00   27.549999   27.644501   26.532000   27.434999   \n",
       "2014-04-16 00:00:00-04:00   27.885000   28.200001   27.655001   28.195000   \n",
       "2014-04-17 00:00:00-04:00   27.816000   27.850000   26.969999   27.167000   \n",
       "2014-04-21 00:00:00-04:00   27.200001   27.200001   26.700001   26.968500   \n",
       "...                               ...         ...         ...         ...   \n",
       "2024-04-08 00:00:00-04:00  152.779999  155.270004  152.610001  154.850006   \n",
       "2024-04-09 00:00:00-04:00  156.089996  158.559998  155.190002  156.600006   \n",
       "2024-04-10 00:00:00-04:00  156.210007  156.610001  154.679993  156.139999   \n",
       "2024-04-11 00:00:00-04:00  156.910004  159.679993  156.460007  159.410004   \n",
       "2024-04-12 00:00:00-04:00  157.960007  160.220001  157.139999  157.729996   \n",
       "\n",
       "                              Volume  Dividends  Stock Splits  \n",
       "Date                                                           \n",
       "2014-04-14 00:00:00-04:00   50824000        0.0           0.0  \n",
       "2014-04-15 00:00:00-04:00   79956000        0.0           0.0  \n",
       "2014-04-16 00:00:00-04:00   91644000        0.0           0.0  \n",
       "2014-04-17 00:00:00-04:00  112294000        0.0           0.0  \n",
       "2014-04-21 00:00:00-04:00   48502000        0.0           0.0  \n",
       "...                              ...        ...           ...  \n",
       "2024-04-08 00:00:00-04:00   20702000        0.0           0.0  \n",
       "2024-04-09 00:00:00-04:00   31113000        0.0           0.0  \n",
       "2024-04-10 00:00:00-04:00   22838600        0.0           0.0  \n",
       "2024-04-11 00:00:00-04:00   27166400        0.0           0.0  \n",
       "2024-04-12 00:00:00-04:00   25329200        0.0           0.0  \n",
       "\n",
       "[2517 rows x 7 columns]"
      ]
     },
     "execution_count": 15,
     "metadata": {},
     "output_type": "execute_result"
    },
    {
     "data": {
      "application/javascript": "\n            setTimeout(function() {\n                var nbb_cell_id = 15;\n                var nbb_unformatted_code = \"temp_df = hists['GOOGL'].copy()\\ntemp_df\";\n                var nbb_formatted_code = \"temp_df = hists[\\\"GOOGL\\\"].copy()\\ntemp_df\";\n                var nbb_cells = Jupyter.notebook.get_cells();\n                for (var i = 0; i < nbb_cells.length; ++i) {\n                    if (nbb_cells[i].input_prompt_number == nbb_cell_id) {\n                        if (nbb_cells[i].get_text() == nbb_unformatted_code) {\n                             nbb_cells[i].set_text(nbb_formatted_code);\n                        }\n                        break;\n                    }\n                }\n            }, 500);\n            ",
      "text/plain": [
       "<IPython.core.display.Javascript object>"
      ]
     },
     "metadata": {},
     "output_type": "display_data"
    }
   ],
   "source": [
    "temp_df = hists[\"GOOGL\"].copy()\n",
    "temp_df"
   ]
  },
  {
   "cell_type": "code",
   "execution_count": 16,
   "id": "013acbd2",
   "metadata": {},
   "outputs": [
    {
     "data": {
      "application/javascript": "\n            setTimeout(function() {\n                var nbb_cell_id = 16;\n                var nbb_unformatted_code = \"# try:\\n#     # Create Candlestick chart\\n#     fig = go.Figure(data=[go.Candlestick(x=temp_df.iloc[:, 0],\\n#                                           open=temp_df['Open'],\\n#                                           high=temp_df['High'],\\n#                                           low=temp_df['Low'],\\n#                                           close=temp_df['Close'])])\\n#     # Show the figure\\n#     fig.show()\\n\\n# except Exception as e:\\n#     print(\\\"Error:\\\", e)\";\n                var nbb_formatted_code = \"# try:\\n#     # Create Candlestick chart\\n#     fig = go.Figure(data=[go.Candlestick(x=temp_df.iloc[:, 0],\\n#                                           open=temp_df['Open'],\\n#                                           high=temp_df['High'],\\n#                                           low=temp_df['Low'],\\n#                                           close=temp_df['Close'])])\\n#     # Show the figure\\n#     fig.show()\\n\\n# except Exception as e:\\n#     print(\\\"Error:\\\", e)\";\n                var nbb_cells = Jupyter.notebook.get_cells();\n                for (var i = 0; i < nbb_cells.length; ++i) {\n                    if (nbb_cells[i].input_prompt_number == nbb_cell_id) {\n                        if (nbb_cells[i].get_text() == nbb_unformatted_code) {\n                             nbb_cells[i].set_text(nbb_formatted_code);\n                        }\n                        break;\n                    }\n                }\n            }, 500);\n            ",
      "text/plain": [
       "<IPython.core.display.Javascript object>"
      ]
     },
     "metadata": {},
     "output_type": "display_data"
    }
   ],
   "source": [
    "# try:\n",
    "#     # Create Candlestick chart\n",
    "#     fig = go.Figure(data=[go.Candlestick(x=temp_df.iloc[:, 0],\n",
    "#                                           open=temp_df['Open'],\n",
    "#                                           high=temp_df['High'],\n",
    "#                                           low=temp_df['Low'],\n",
    "#                                           close=temp_df['Close'])])\n",
    "#     # Show the figure\n",
    "#     fig.show()\n",
    "\n",
    "# except Exception as e:\n",
    "#     print(\"Error:\", e)"
   ]
  },
  {
   "cell_type": "code",
   "execution_count": null,
   "id": "d18344ed",
   "metadata": {},
   "outputs": [],
   "source": [
    "hists = {}\n",
    "for stock in tickers:\n",
    "    tkr = yf.Ticker(stock)\n",
    "    history = tkr.history(period=\"10y\")\n",
    "    hists[s] = history\n",
    "    temp_df = hists[s]\n",
    "\n",
    "    try:\n",
    "        # Create Candlestick chart\n",
    "        fig = go.Figure(\n",
    "            data=[\n",
    "                go.Candlestick(\n",
    "                    x=temp_df.index,\n",
    "                    open=temp_df[\"Open\"],\n",
    "                    high=temp_df[\"High\"],\n",
    "                    low=temp_df[\"Low\"],\n",
    "                    close=temp_df[\"Close\"],\n",
    "                )\n",
    "            ]\n",
    "        )\n",
    "        fig.update_layout(\n",
    "            margin=dict(l=20, r=20, t=60, b=20),\n",
    "            height=300,\n",
    "            paper_bgcolor=\"LightSteelBlue\",\n",
    "            title=stock,\n",
    "        )\n",
    "        # Show the figure\n",
    "        fig.show()\n",
    "\n",
    "    except Exception as e:\n",
    "        print(\"Error:\", e)"
   ]
  },
  {
   "cell_type": "code",
   "execution_count": 18,
   "id": "026788e1",
   "metadata": {},
   "outputs": [
    {
     "data": {
      "application/javascript": "\n            setTimeout(function() {\n                var nbb_cell_id = 18;\n                var nbb_unformatted_code = \"## Pull tweets about each stock\";\n                var nbb_formatted_code = \"## Pull tweets about each stock\";\n                var nbb_cells = Jupyter.notebook.get_cells();\n                for (var i = 0; i < nbb_cells.length; ++i) {\n                    if (nbb_cells[i].input_prompt_number == nbb_cell_id) {\n                        if (nbb_cells[i].get_text() == nbb_unformatted_code) {\n                             nbb_cells[i].set_text(nbb_formatted_code);\n                        }\n                        break;\n                    }\n                }\n            }, 500);\n            ",
      "text/plain": [
       "<IPython.core.display.Javascript object>"
      ]
     },
     "metadata": {},
     "output_type": "display_data"
    }
   ],
   "source": [
    "## Pull tweets about each stock"
   ]
  },
  {
   "cell_type": "code",
   "execution_count": 19,
   "id": "c70bb5c6",
   "metadata": {
    "scrolled": true
   },
   "outputs": [
    {
     "data": {
      "text/html": [
       "<div>\n",
       "<style scoped>\n",
       "    .dataframe tbody tr th:only-of-type {\n",
       "        vertical-align: middle;\n",
       "    }\n",
       "\n",
       "    .dataframe tbody tr th {\n",
       "        vertical-align: top;\n",
       "    }\n",
       "\n",
       "    .dataframe thead th {\n",
       "        text-align: right;\n",
       "    }\n",
       "</style>\n",
       "<table border=\"1\" class=\"dataframe\">\n",
       "  <thead>\n",
       "    <tr style=\"text-align: right;\">\n",
       "      <th></th>\n",
       "      <th>Open</th>\n",
       "      <th>High</th>\n",
       "      <th>Low</th>\n",
       "      <th>Close</th>\n",
       "      <th>Volume</th>\n",
       "      <th>Dividends</th>\n",
       "      <th>Stock Splits</th>\n",
       "    </tr>\n",
       "    <tr>\n",
       "      <th>Date</th>\n",
       "      <th></th>\n",
       "      <th></th>\n",
       "      <th></th>\n",
       "      <th></th>\n",
       "      <th></th>\n",
       "      <th></th>\n",
       "      <th></th>\n",
       "    </tr>\n",
       "  </thead>\n",
       "  <tbody>\n",
       "    <tr>\n",
       "      <th>2014-04-14 00:00:00-04:00</th>\n",
       "      <td>26.838814</td>\n",
       "      <td>27.130512</td>\n",
       "      <td>26.405504</td>\n",
       "      <td>26.553099</td>\n",
       "      <td>51501009</td>\n",
       "      <td>0.0</td>\n",
       "      <td>0.0</td>\n",
       "    </tr>\n",
       "    <tr>\n",
       "      <th>2014-04-15 00:00:00-04:00</th>\n",
       "      <td>26.767509</td>\n",
       "      <td>26.848787</td>\n",
       "      <td>25.852022</td>\n",
       "      <td>26.748562</td>\n",
       "      <td>77101101</td>\n",
       "      <td>0.0</td>\n",
       "      <td>0.0</td>\n",
       "    </tr>\n",
       "    <tr>\n",
       "      <th>2014-04-16 00:00:00-04:00</th>\n",
       "      <td>27.075665</td>\n",
       "      <td>27.773746</td>\n",
       "      <td>26.926073</td>\n",
       "      <td>27.750811</td>\n",
       "      <td>97865955</td>\n",
       "      <td>0.0</td>\n",
       "      <td>0.0</td>\n",
       "    </tr>\n",
       "    <tr>\n",
       "      <th>2014-04-17 00:00:00-04:00</th>\n",
       "      <td>27.365368</td>\n",
       "      <td>27.399775</td>\n",
       "      <td>26.484785</td>\n",
       "      <td>26.731607</td>\n",
       "      <td>136190888</td>\n",
       "      <td>0.0</td>\n",
       "      <td>0.0</td>\n",
       "    </tr>\n",
       "    <tr>\n",
       "      <th>2014-04-21 00:00:00-04:00</th>\n",
       "      <td>26.731607</td>\n",
       "      <td>26.761526</td>\n",
       "      <td>26.208046</td>\n",
       "      <td>26.358631</td>\n",
       "      <td>51334553</td>\n",
       "      <td>0.0</td>\n",
       "      <td>0.0</td>\n",
       "    </tr>\n",
       "    <tr>\n",
       "      <th>...</th>\n",
       "      <td>...</td>\n",
       "      <td>...</td>\n",
       "      <td>...</td>\n",
       "      <td>...</td>\n",
       "      <td>...</td>\n",
       "      <td>...</td>\n",
       "      <td>...</td>\n",
       "    </tr>\n",
       "    <tr>\n",
       "      <th>2024-04-08 00:00:00-04:00</th>\n",
       "      <td>154.014999</td>\n",
       "      <td>156.654999</td>\n",
       "      <td>153.990005</td>\n",
       "      <td>156.139999</td>\n",
       "      <td>16641500</td>\n",
       "      <td>0.0</td>\n",
       "      <td>0.0</td>\n",
       "    </tr>\n",
       "    <tr>\n",
       "      <th>2024-04-09 00:00:00-04:00</th>\n",
       "      <td>157.350006</td>\n",
       "      <td>159.889999</td>\n",
       "      <td>156.639999</td>\n",
       "      <td>158.139999</td>\n",
       "      <td>21538100</td>\n",
       "      <td>0.0</td>\n",
       "      <td>0.0</td>\n",
       "    </tr>\n",
       "    <tr>\n",
       "      <th>2024-04-10 00:00:00-04:00</th>\n",
       "      <td>157.880005</td>\n",
       "      <td>158.160004</td>\n",
       "      <td>156.199997</td>\n",
       "      <td>157.660004</td>\n",
       "      <td>16339200</td>\n",
       "      <td>0.0</td>\n",
       "      <td>0.0</td>\n",
       "    </tr>\n",
       "    <tr>\n",
       "      <th>2024-04-11 00:00:00-04:00</th>\n",
       "      <td>158.339996</td>\n",
       "      <td>161.119995</td>\n",
       "      <td>157.929993</td>\n",
       "      <td>160.789993</td>\n",
       "      <td>17841700</td>\n",
       "      <td>0.0</td>\n",
       "      <td>0.0</td>\n",
       "    </tr>\n",
       "    <tr>\n",
       "      <th>2024-04-12 00:00:00-04:00</th>\n",
       "      <td>159.404999</td>\n",
       "      <td>161.699997</td>\n",
       "      <td>158.600006</td>\n",
       "      <td>159.190002</td>\n",
       "      <td>16968200</td>\n",
       "      <td>0.0</td>\n",
       "      <td>0.0</td>\n",
       "    </tr>\n",
       "  </tbody>\n",
       "</table>\n",
       "<p>2517 rows × 7 columns</p>\n",
       "</div>"
      ],
      "text/plain": [
       "                                 Open        High         Low       Close  \\\n",
       "Date                                                                        \n",
       "2014-04-14 00:00:00-04:00   26.838814   27.130512   26.405504   26.553099   \n",
       "2014-04-15 00:00:00-04:00   26.767509   26.848787   25.852022   26.748562   \n",
       "2014-04-16 00:00:00-04:00   27.075665   27.773746   26.926073   27.750811   \n",
       "2014-04-17 00:00:00-04:00   27.365368   27.399775   26.484785   26.731607   \n",
       "2014-04-21 00:00:00-04:00   26.731607   26.761526   26.208046   26.358631   \n",
       "...                               ...         ...         ...         ...   \n",
       "2024-04-08 00:00:00-04:00  154.014999  156.654999  153.990005  156.139999   \n",
       "2024-04-09 00:00:00-04:00  157.350006  159.889999  156.639999  158.139999   \n",
       "2024-04-10 00:00:00-04:00  157.880005  158.160004  156.199997  157.660004   \n",
       "2024-04-11 00:00:00-04:00  158.339996  161.119995  157.929993  160.789993   \n",
       "2024-04-12 00:00:00-04:00  159.404999  161.699997  158.600006  159.190002   \n",
       "\n",
       "                              Volume  Dividends  Stock Splits  \n",
       "Date                                                           \n",
       "2014-04-14 00:00:00-04:00   51501009        0.0           0.0  \n",
       "2014-04-15 00:00:00-04:00   77101101        0.0           0.0  \n",
       "2014-04-16 00:00:00-04:00   97865955        0.0           0.0  \n",
       "2014-04-17 00:00:00-04:00  136190888        0.0           0.0  \n",
       "2014-04-21 00:00:00-04:00   51334553        0.0           0.0  \n",
       "...                              ...        ...           ...  \n",
       "2024-04-08 00:00:00-04:00   16641500        0.0           0.0  \n",
       "2024-04-09 00:00:00-04:00   21538100        0.0           0.0  \n",
       "2024-04-10 00:00:00-04:00   16339200        0.0           0.0  \n",
       "2024-04-11 00:00:00-04:00   17841700        0.0           0.0  \n",
       "2024-04-12 00:00:00-04:00   16968200        0.0           0.0  \n",
       "\n",
       "[2517 rows x 7 columns]"
      ]
     },
     "execution_count": 19,
     "metadata": {},
     "output_type": "execute_result"
    },
    {
     "data": {
      "application/javascript": "\n            setTimeout(function() {\n                var nbb_cell_id = 19;\n                var nbb_unformatted_code = \"hists['GOOG']\";\n                var nbb_formatted_code = \"hists[\\\"GOOG\\\"]\";\n                var nbb_cells = Jupyter.notebook.get_cells();\n                for (var i = 0; i < nbb_cells.length; ++i) {\n                    if (nbb_cells[i].input_prompt_number == nbb_cell_id) {\n                        if (nbb_cells[i].get_text() == nbb_unformatted_code) {\n                             nbb_cells[i].set_text(nbb_formatted_code);\n                        }\n                        break;\n                    }\n                }\n            }, 500);\n            ",
      "text/plain": [
       "<IPython.core.display.Javascript object>"
      ]
     },
     "metadata": {},
     "output_type": "display_data"
    }
   ],
   "source": [
    "hists[\"GOOG\"]"
   ]
  },
  {
   "cell_type": "code",
   "execution_count": null,
   "id": "5106c498",
   "metadata": {},
   "outputs": [],
   "source": [
    "# import twitter\n",
    "# import configparser\n",
    "\n",
    "\n",
    "# # Twitter API credentials\n",
    "# config = configparser.ConfigParser()\n",
    "# config.read(\"config.ini\")\n",
    "\n",
    "# api_key = config[\"twitter\"][\"api_key\"]\n",
    "# api_key_secret = config[\"twitter\"][\"api_key_secret\"]\n",
    "\n",
    "# access_token = config[\"twitter\"][\"access_token\"]\n",
    "# access_token_secret = config[\"twitter\"][\"access_token_secret\"]"
   ]
  },
  {
   "cell_type": "code",
   "execution_count": null,
   "id": "8d6d532a",
   "metadata": {},
   "outputs": [],
   "source": [
    "# import tweepy\n",
    "# from tqdm.notebook import tqdm\n",
    "\n",
    "\n",
    "# # Authenticate with Twitter API\n",
    "# auth = tweepy.OAuthHandler(consumer_key, consumer_secret)\n",
    "# auth.set_access_token(access_token, access_token_secret)\n",
    "# api = tweepy.API(auth)\n",
    "\n",
    "# # Define the search query and date range\n",
    "# query = f'${stock}'\n",
    "# since_date = '2014-04-15'\n",
    "# until_date = '2024-04-15'\n",
    "\n",
    "# # Creating list to append tweet data\n",
    "# tweets_list = []\n",
    "\n",
    "# # Search for tweets containing the query within the date range\n",
    "# for tweet in tqdm(api.search_tweets(q=query, since=since_date, until=until_date, count=100), total=12000):\n",
    "#     tweets_list.append([tweet.created_at, tweet.id, tweet.text, tweet.user.screen_name])\n",
    "\n",
    "# # Create a DataFrame from the tweets list\n",
    "# tweet_df = pd.DataFrame(tweets_list, columns=[\"Datetime\", \"Tweet ID\", \"Text\", \"Username\"])\n",
    "\n",
    "# # Print the first few rows of the DataFrame\n",
    "# tweet_df.head()"
   ]
  },
  {
   "cell_type": "code",
   "execution_count": null,
   "id": "5b5b7ec1",
   "metadata": {},
   "outputs": [],
   "source": [
    "# import libraries and packages\n",
    "import twitter\n",
    "import snscrape.modules.twitter as sntwitter\n",
    "from tqdm.notebook import tqdm\n",
    "import pandas\n",
    "# Creating list to append tweet data\n",
    "tweets_list = []\n",
    "# Using TwitterSearchScaper to scrape data and append tweets to list\n",
    "for i, tweet in tqdm(\n",
    "    enumerate(\n",
    "        sntwitter.TwitterSearchScraper(\n",
    "            f\"${stock} since:2014-04-15 until: 2024-04-15\"\n",
    "        ).get_items()), total=12000,):\n",
    "    \n",
    "    # declare a username\n",
    "    if i > 12000:  # number of tweets you want to scrape\n",
    "        break\n",
    "    tweets_list.append(\n",
    "        [tweet.date, tweet.id, tweet.content, tweet.user.username]\n",
    "    )  # declare the attribute to be returned\n",
    "# create a dataframe from the tweets list above\n",
    "\n",
    "tweet_df = pd.DataFrame(\n",
    "    tweets_list, columns=[\"Datetime\", \"Tweet ID\", \"Text\", \"Username\"]\n",
    ")\n"
   ]
  },
  {
   "cell_type": "code",
   "execution_count": null,
   "id": "47cc1f76",
   "metadata": {},
   "outputs": [],
   "source": [
    "tweets_df.tails()"
   ]
  },
  {
   "cell_type": "code",
   "execution_count": null,
   "id": "d8617a64",
   "metadata": {},
   "outputs": [],
   "source": [
    "tweet_df['Text'].values()"
   ]
  },
  {
   "cell_type": "code",
   "execution_count": null,
   "id": "25dcaad4",
   "metadata": {},
   "outputs": [],
   "source": [
    "tweet_df['Datetime'].min()"
   ]
  },
  {
   "cell_type": "code",
   "execution_count": null,
   "id": "d1ee70ce",
   "metadata": {},
   "outputs": [],
   "source": [
    "## sentiment analysis prep"
   ]
  },
  {
   "cell_type": "code",
   "execution_count": 3,
   "id": "7a4c7c09",
   "metadata": {
    "scrolled": true
   },
   "outputs": [
    {
     "name": "stderr",
     "output_type": "stream",
     "text": [
      "Some weights of the model checkpoint at cardiffnlp/twitter-roberta-base-sentiment-latest were not used when initializing RobertaForSequenceClassification: ['roberta.pooler.dense.bias', 'roberta.pooler.dense.weight']\n",
      "- This IS expected if you are initializing RobertaForSequenceClassification from the checkpoint of a model trained on another task or with another architecture (e.g. initializing a BertForSequenceClassification model from a BertForPreTraining model).\n",
      "- This IS NOT expected if you are initializing RobertaForSequenceClassification from the checkpoint of a model that you expect to be exactly identical (initializing a BertForSequenceClassification model from a BertForSequenceClassification model).\n"
     ]
    },
    {
     "data": {
      "text/plain": [
       "[{'label': 'positive', 'score': 0.8514195680618286}]"
      ]
     },
     "execution_count": 3,
     "metadata": {},
     "output_type": "execute_result"
    }
   ],
   "source": [
    "from transformers import pipeline\n",
    "\n",
    "model = f\"cardiffnlp/twitter-roberta-base-sentiment-latest\"\n",
    "sentiment_task = pipeline(\"sentiment-analysis\", model=model)\n",
    "sentiment_task('Bullish market!')"
   ]
  },
  {
   "cell_type": "code",
   "execution_count": null,
   "id": "f70b183f",
   "metadata": {},
   "outputs": [],
   "source": [
    "from tqdm.notebook import tqdm\n",
    "sentiment_results = {}\n",
    "count = 0\n",
    "for i, d in tqdm(tweet_df.iterrows(), total = len(tweet_df)) :    \n",
    "    key = d['Tweet Id']\n",
    "    sentiment_results[key] = sentiment_task(d['Text'])\n",
    "    count+=1\n",
    "    if count == 500:\n",
    "        break"
   ]
  },
  {
   "cell_type": "code",
   "execution_count": null,
   "id": "354a27d7",
   "metadata": {},
   "outputs": [],
   "source": [
    "sentiment_df = pd.DataFrame(sentiment_results).T\n",
    "sentiment_df['label']= sentiment_df[0].apply(lambda x:x['label'])\n",
    "sentiment_df['score']= sentiment_df[0].apply(lambda x:x['score'])\n",
    "sentiment_df=sentiment_df.merge(tweet_df.set_index('Tweet Id'), left_index = True, right_index=True)\n",
    "sentiment_df.loc[sentiment_df['label']== 'Negative', 'score'] *= -1"
   ]
  },
  {
   "cell_type": "code",
   "execution_count": null,
   "id": "58c1b921",
   "metadata": {},
   "outputs": [],
   "source": [
    "sentiment_df.groupby('label')['score'].plot(kind='hist', bins=50)\n",
    "plt.legend()\n",
    "plt.show()"
   ]
  },
  {
   "cell_type": "code",
   "execution_count": null,
   "id": "4f8bd09f",
   "metadata": {},
   "outputs": [],
   "source": [
    "sentiment_df['Date'] = sentiment_df['Datetime'].dt.date\n",
    "sentiment_daily = sentiment_df.groupby('Date')['score'].mean()\n",
    "stock_df = hists['GOOGL'].copy()\n",
    "stock_df = stock_df.reset_index()\n",
    "stock_df['Date'] = stock_df['Date'].dt.date\n",
    "stock_df = stock_df.set_index('Date')\n",
    "sentiment_and_stock = sentiment_daily.to_frame('sentiment').merge(stock_df, left_index=True, right_index=True)\n",
    "\n",
    "ax = sentiment_and_stock['sentiment'].plot(legend='Sentiment')\n",
    "ax2 = ax.twin()\n",
    "sentiment_and_stock['Close'].plot(ax=ax2, color = 'orange', legend='Closing Price')\n",
    "plt.show()"
   ]
  }
 ],
 "metadata": {
  "kernelspec": {
   "display_name": "Python 3 (ipykernel)",
   "language": "python",
   "name": "python3"
  },
  "language_info": {
   "codemirror_mode": {
    "name": "ipython",
    "version": 3
   },
   "file_extension": ".py",
   "mimetype": "text/x-python",
   "name": "python",
   "nbconvert_exporter": "python",
   "pygments_lexer": "ipython3",
   "version": "3.11.5"
  }
 },
 "nbformat": 4,
 "nbformat_minor": 5
}
